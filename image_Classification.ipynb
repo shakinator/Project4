{
  "nbformat": 4,
  "nbformat_minor": 0,
  "metadata": {
    "colab": {
      "name": "image_Classification.ipynb",
      "provenance": [],
      "collapsed_sections": []
    },
    "kernelspec": {
      "name": "python3",
      "display_name": "Python 3"
    },
    "language_info": {
      "name": "python"
    },
    "accelerator": "GPU"
  },
  "cells": [
    {
      "cell_type": "code",
      "source": [
        "import tensorflow as tf\n",
        "tf.__version__"
      ],
      "metadata": {
        "colab": {
          "base_uri": "https://localhost:8080/",
          "height": 35
        },
        "id": "762XTENnns9K",
        "outputId": "04e8f7aa-d3f4-4694-8866-afb86f24c175"
      },
      "execution_count": null,
      "outputs": [
        {
          "output_type": "execute_result",
          "data": {
            "application/vnd.google.colaboratory.intrinsic+json": {
              "type": "string"
            },
            "text/plain": [
              "'2.7.0'"
            ]
          },
          "metadata": {},
          "execution_count": 1
        }
      ]
    },
    {
      "cell_type": "code",
      "source": [
        "tf.test.gpu_device_name()"
      ],
      "metadata": {
        "colab": {
          "base_uri": "https://localhost:8080/",
          "height": 35
        },
        "id": "iD-W3WjpvpV-",
        "outputId": "3d910bfb-46b6-46da-d919-ac26888ab960"
      },
      "execution_count": null,
      "outputs": [
        {
          "output_type": "execute_result",
          "data": {
            "application/vnd.google.colaboratory.intrinsic+json": {
              "type": "string"
            },
            "text/plain": [
              "'/device:GPU:0'"
            ]
          },
          "metadata": {},
          "execution_count": 2
        }
      ]
    },
    {
      "cell_type": "code",
      "execution_count": null,
      "metadata": {
        "id": "ktMf5qDOm1pG"
      },
      "outputs": [],
      "source": [
        "import os\n",
        "import numpy as np\n",
        "import random\n",
        "\n",
        "import matplotlib.pyplot as plt\n",
        "import matplotlib.image as mpimg\n",
        "import seaborn as sns\n",
        "\n",
        "from tensorflow.keras.models import Sequential, save_model, load_model\n",
        "from tensorflow.keras.preprocessing.image import ImageDataGenerator, load_img, img_to_array\n",
        "from tensorflow.keras.layers import Flatten, Conv2D, Dense, Dropout, MaxPooling2D\n",
        "from tensorflow.keras.callbacks import EarlyStopping, ModelCheckpoint"
      ]
    },
    {
      "cell_type": "code",
      "source": [
        "from google.colab import drive\n",
        "drive.mount('/content/drive')"
      ],
      "metadata": {
        "id": "Mam3CG6ut-Dl"
      },
      "execution_count": null,
      "outputs": []
    },
    {
      "cell_type": "code",
      "source": [
        "% cd /content/drive/MyDrive/Colab Notebooks/"
      ],
      "metadata": {
        "id": "snVh4dcMoXDp"
      },
      "execution_count": null,
      "outputs": []
    },
    {
      "cell_type": "code",
      "source": [
        "base_dir = \"\"\n",
        "train_path = os.path.join(base_dir, 'train/')\n",
        "test_path = os.path.join(base_dir, 'test/')\n",
        "val_path = os.path.join(base_dir, 'validation/')"
      ],
      "metadata": {
        "id": "qvdlVdIUpBda"
      },
      "execution_count": null,
      "outputs": []
    },
    {
      "cell_type": "code",
      "source": [
        "print(\"Number of train images in each Category\")\n",
        "print(\"==========================================\")\n",
        "print(\"Number of directories: \", len(os.listdir(train_path)))\n",
        "for dir in os.listdir(train_path):\n",
        "  print(dir, len(os.listdir(train_path+dir)))\n",
        "\n",
        "print(\"Number of test images in each Category\")\n",
        "print(\"==========================================\")\n",
        "\n",
        "for dir in os.listdir(test_path):\n",
        "  print(dir, len(os.listdir(test_path+dir)))\n",
        "\n",
        "\n",
        "print(\"Number of validation images in each Category\")\n",
        "print(\"==========================================\")\n",
        "\n",
        "for dir in os.listdir(val_path):\n",
        "  print(dir, len(os.listdir(val_path+dir)))"
      ],
      "metadata": {
        "id": "mzGV7LLbqjSg"
      },
      "execution_count": null,
      "outputs": []
    },
    {
      "cell_type": "code",
      "source": [
        "random.sample(os.listdir(train_path+''), 1)"
      ],
      "metadata": {
        "id": "eDI7z9YYs-DL"
      },
      "execution_count": null,
      "outputs": []
    },
    {
      "cell_type": "code",
      "source": [
        "from tensorflow.python.ops.gen_logging_ops import image_summary\n",
        "k=1\n",
        "plt.figure(figsize=(16,14))\n",
        "for dir in os.listdir(train_path):\n",
        "  random_img = random.sample(os.listdir(train_path+dir),1)\n",
        "  img = load_img(train_path+dir+'/'+random_img[0], target_size=(224,224))\n",
        "\n",
        "  i = img_to_array(img)/255.\n",
        "  img_arr = np.array(i)\n",
        "  plt.subplot(3,5,k)\n",
        "  plt.imshow(img_arr)\n",
        "  plt.title(\"org: {}\".format(dir))\n",
        "  plt.axis('off')\n",
        "  k+=1\n",
        "\n",
        "plt.show()"
      ],
      "metadata": {
        "id": "Ze4OQAyhrYZc"
      },
      "execution_count": null,
      "outputs": []
    },
    {
      "cell_type": "code",
      "source": [
        "train_datagen = ImageDataGenerator(rescale=1/255.,\n",
        "                                   rotation_range=30,\n",
        "                                   height_shift_range=0.1,\n",
        "                                   width_shift_range=0.1,\n",
        "                                   zoom_range=0.2,\n",
        "                                   horizontal_flip=True,\n",
        "                                   vertical_flip=True)\n",
        "\n",
        "test_datagen = ImageDataGenerator(rescale=1/255.)\n",
        "val_datagen = ImageDataGenerator(rescale=1/255.)"
      ],
      "metadata": {
        "id": "tz23CF6YuqkA"
      },
      "execution_count": null,
      "outputs": []
    },
    {
      "cell_type": "code",
      "source": [
        "train_generator = train_datagen.flow_from_directory(train_path,\n",
        "                                                    target_size=(150,150),\n",
        "                                                    class_mode='categorical',\n",
        "                                                    batch_size=100)\n",
        "\n",
        "test_generator = test_datagen.flow_from_directory(test_path,\n",
        "                                                  target_size=(150,150),\n",
        "                                                  class_mode='categorical',\n",
        "                                                  batch_size=100)\n",
        "val_generator = val_datagen.flow_from_directory(val_path, \n",
        "                                                target_size=(150,150),\n",
        "                                                class_mode='categorical',\n",
        "                                                batch_size=100)"
      ],
      "metadata": {
        "id": "BSGeSheFxJwd"
      },
      "execution_count": null,
      "outputs": []
    },
    {
      "cell_type": "code",
      "source": [
        "test_generator = test_datagen.flow_from_directory(test_path,\n",
        "                                                  target_size=(150,150),\n",
        "                                                  class_mode='categorical',\n",
        "                                                  batch_size=100,\n",
        "                                                  shuffle=False)"
      ],
      "metadata": {
        "id": "gR-nMcNJXhl_"
      },
      "execution_count": null,
      "outputs": []
    },
    {
      "cell_type": "code",
      "source": [
        "model = Sequential()\n",
        "model.add(Conv2D(64, kernel_size=(3,3), padding='same', activation='relu', input_shape=(150,150,3)))\n",
        "\n",
        "model.add(Conv2D(128, kernel_size=(3,3), activation='relu', padding='same'))\n",
        "model.add(MaxPooling2D())\n",
        "model.add(Dropout(0.4))\n",
        "\n",
        "model.add(Conv2D(128, kernel_size=(3,3), activation='relu', padding='same'))\n",
        "model.add(MaxPooling2D())\n",
        "model.add(Dropout(0.4))\n",
        "\n",
        "model.add(Flatten())\n",
        "model.add(Dense(128, activation='relu'))\n",
        "model.add(Dropout(0.4))\n",
        "model.add(Dense(15, activation='softmax'))\n",
        "\n",
        "model.summary()"
      ],
      "metadata": {
        "id": "e1O73_TryDAz"
      },
      "execution_count": null,
      "outputs": []
    },
    {
      "cell_type": "code",
      "source": [
        "model.compile(optimizer='adam', loss='categorical_crossentropy', metrics=['accuracy'])"
      ],
      "metadata": {
        "id": "qQOaiJm6yMNn"
      },
      "execution_count": null,
      "outputs": []
    },
    {
      "cell_type": "code",
      "source": [
        "mc = ModelCheckpoint('', monitor='val_loss', mode='min', save_best_only=True)\n",
        "\n",
        "es = EarlyStopping(monitor='accuracy', min_delta=0.01, patience=3, mode='max')"
      ],
      "metadata": {
        "id": "HTA5nNIOwVzx"
      },
      "execution_count": null,
      "outputs": []
    },
    {
      "cell_type": "code",
      "source": [
        "hist = model.fit(train_generator, epochs=30, validation_data=val_generator, callbacks=[mc,es])"
      ],
      "metadata": {
        "id": "PMeHBwDezvKD"
      },
      "execution_count": null,
      "outputs": []
    },
    {
      "cell_type": "code",
      "source": [
        "valloss, valaccuracy = model.evaluate(val_generator)\n",
        "\n",
        "testloss, testaccuracy = model.evaluate(test_generator)\n",
        "\n",
        "\n",
        "print(\"\\nValidation accuracy: {}, validation loss: {}\".format(valaccuracy, valloss))\n",
        "print(\"\\nTest accuracy: {}, Test loss: {}\".format(testaccuracy, testloss))"
      ],
      "metadata": {
        "id": "FHjMnzXXKid1"
      },
      "execution_count": null,
      "outputs": []
    },
    {
      "cell_type": "code",
      "source": [
        "acc = hist.history['accuracy']\n",
        "loss = hist.history['loss']\n",
        "val_acc = hist.history['val_accuracy']\n",
        "val_loss = hist.history['val_loss']\n",
        "epochs = range(1, len(acc)+1)\n",
        "\n",
        "plt.figure(figsize=(14,6))\n",
        "plt.subplot(1,2,1)\n",
        "plt.plot(epochs, acc, 'ro--', label='Accuracy')\n",
        "plt.plot(epochs, val_acc, 'g^:', label='Val_Accuracy')\n",
        "plt.title(\"Accuracy vs Epochs\")\n",
        "plt.xlabel(\"Epochs\", fontsize=12)\n",
        "plt.ylabel(\"Accuracy\", fontsize=12)\n",
        "plt.legend()\n",
        "\n",
        "plt.subplot(1,2,2)\n",
        "plt.plot(epochs, loss, 'ro--', label='Loss')\n",
        "plt.plot(epochs, val_loss, 'g^:', label='Val_Loss')\n",
        "plt.title(\"Loss vs Epochs\")\n",
        "plt.xlabel(\"Epochs\", fontsize=12)\n",
        "plt.ylabel(\"Loss\", fontsize=12)\n",
        "plt.legend()\n",
        "\n",
        "plt.show()"
      ],
      "metadata": {
        "id": "aIMM0oVpKvx3"
      },
      "execution_count": null,
      "outputs": []
    },
    {
      "cell_type": "markdown",
      "source": [
        "## Loading the saved model at best val_loss"
      ],
      "metadata": {
        "id": "A_2TXCFlL9I-"
      }
    },
    {
      "cell_type": "code",
      "source": [
        "model1 = load_model('')"
      ],
      "metadata": {
        "id": "5axX_5CHz-gY"
      },
      "execution_count": null,
      "outputs": []
    },
    {
      "cell_type": "code",
      "source": [
        "valloss, valaccuracy = model1.evaluate(val_generator)\n",
        "\n",
        "testloss, testaccuracy = model1.evaluate(test_generator)\n",
        "\n",
        "print(\"\\nValidation accuracy: {}, validation loss: {}\".format(valaccuracy, valloss))\n",
        "print(\"\\nTest accuracy: {}, Test loss: {}\".format(testaccuracy, testloss))"
      ],
      "metadata": {
        "id": "C6FXVBNHn9O7"
      },
      "execution_count": null,
      "outputs": []
    },
    {
      "cell_type": "code",
      "source": [
        "prediction = model1.predict(test_generator)"
      ],
      "metadata": {
        "id": "Q8f76MX2L52J"
      },
      "execution_count": null,
      "outputs": []
    },
    {
      "cell_type": "code",
      "source": [
        "prediction[3], np.argmax(prediction[2])"
      ],
      "metadata": {
        "id": "2XC_Z8bHNsuQ"
      },
      "execution_count": null,
      "outputs": []
    },
    {
      "cell_type": "code",
      "source": [
        "y_pred = [np.argmax(i) for i in prediction]\n",
        "#y_pred = np.argmax(prediction, axis=1)"
      ],
      "metadata": {
        "id": "DsGlwfDXNyRn"
      },
      "execution_count": null,
      "outputs": []
    },
    {
      "cell_type": "code",
      "source": [
        "y_pred[0:5]"
      ],
      "metadata": {
        "id": "msv4y-elONPg"
      },
      "execution_count": null,
      "outputs": []
    },
    {
      "cell_type": "markdown",
      "source": [
        "## Predict Random Images"
      ],
      "metadata": {
        "id": "cqGpcLuZXzmk"
      }
    },
    {
      "cell_type": "code",
      "source": [
        "img_arr.reshape(-1,150,150,3).shape"
      ],
      "metadata": {
        "id": "XMb2oKqNRsVL"
      },
      "execution_count": null,
      "outputs": []
    },
    {
      "cell_type": "code",
      "source": [
        "class_dict = test_generator.class_indices\n",
        "class_list = []\n",
        "for item, num in class_dict.items():\n",
        "  class_list.append(item)\n",
        "\n",
        "class_list"
      ],
      "metadata": {
        "id": "chNZtBvhSTzp"
      },
      "execution_count": null,
      "outputs": []
    },
    {
      "cell_type": "code",
      "source": [
        "pred = model1.predict(img_arr.reshape(-1,150,150,3))\n",
        "class_list[np.argmax(pred)]"
      ],
      "metadata": {
        "id": "xjhFWWamR642"
      },
      "execution_count": null,
      "outputs": []
    },
    {
      "cell_type": "code",
      "source": [
        "img = load_img('', target_size=(150,150))\n",
        "\n",
        "i = img_to_array(img)/255.\n",
        "img_arr = np.array(i)\n",
        "plt.imshow(img_arr)\n",
        "plt.axis('off')\n",
        "pred = model1.predict(img_arr.reshape(-1, 150, 150, 3))\n",
        "plt.title(\"pred: {}\".format(class_list[np.argmax(pred)]) )\n",
        "plt.show()"
      ],
      "metadata": {
        "id": "qLv-PdIDRM59"
      },
      "execution_count": null,
      "outputs": []
    },
    {
      "cell_type": "code",
      "source": [
        "k=1\n",
        "plt.figure(figsize=(16,24))\n",
        "\n",
        "for dir in os.listdir(test_path):\n",
        "  for i in range(2):\n",
        "    random_img = random.sample(os.listdir(test_path+dir),1)\n",
        "    img = load_img(test_path+dir+'/'+random_img[0], target_size=(150,150))\n",
        "\n",
        "    i = img_to_array(img)/255.\n",
        "    plt.subplot(6,5,k)\n",
        "    img_arr = np.array(i)\n",
        "    plt.imshow(img_arr)\n",
        "    pred = model1.predict(img_arr.reshape(-1,150,150,3))\n",
        "    plt.title(\"Org: {}\\nPred: {}\".format(dir, class_list[np.argmax(pred)] ))\n",
        "    plt.axis('off')\n",
        "    k+=1\n",
        "\n",
        "plt.show()"
      ],
      "metadata": {
        "id": "XjcxnlhGOOse"
      },
      "execution_count": null,
      "outputs": []
    },
    {
      "cell_type": "code",
      "source": [
        ""
      ],
      "metadata": {
        "id": "GMspASkTX4bW"
      },
      "execution_count": null,
      "outputs": []
    },
    {
      "cell_type": "markdown",
      "source": [
        "## Getting Performance Scores"
      ],
      "metadata": {
        "id": "D1SA5fZ2X5CE"
      }
    },
    {
      "cell_type": "code",
      "source": [
        "y_true = test_generator.classes"
      ],
      "metadata": {
        "id": "Efbc3_wLOjuc"
      },
      "execution_count": null,
      "outputs": []
    },
    {
      "cell_type": "code",
      "source": [
        "from sklearn.metrics import confusion_matrix\n",
        "cm = confusion_matrix(y_true, y_pred)\n",
        "cm"
      ],
      "metadata": {
        "id": "NYGDFQuNUi2r"
      },
      "execution_count": null,
      "outputs": []
    },
    {
      "cell_type": "code",
      "source": [
        "plt.figure(figsize=(14,10))\n",
        "sns.heatmap(cm, annot = True, fmt='d')\n",
        "plt.xlabel('Predicted Label', fontsize=12)\n",
        "plt.ylabel('True Label', fontsize=12)\n",
        "plt.show()"
      ],
      "metadata": {
        "id": "f5v4Os-RVs3x"
      },
      "execution_count": null,
      "outputs": []
    },
    {
      "cell_type": "code",
      "source": [
        "from sklearn.metrics import classification_report\n",
        "print(classification_report(y_true, y_pred, target_names=class_list) )"
      ],
      "metadata": {
        "id": "veCvz3CtYepl"
      },
      "execution_count": null,
      "outputs": []
    },
    {
      "cell_type": "markdown",
      "source": [
        "# Build a model using Transfer Learning"
      ],
      "metadata": {
        "id": "vfQMdoWVaDY_"
      }
    },
    {
      "cell_type": "code",
      "source": [
        "from tensorflow.keras.applications.mobilenet_v2 import MobileNetV2, preprocess_input"
      ],
      "metadata": {
        "id": "zJLEBjUZZW3p"
      },
      "execution_count": null,
      "outputs": []
    },
    {
      "cell_type": "code",
      "source": [
        "base_model = MobileNetV2(input_shape= (150,150,3), include_top=False, weights='imagenet')"
      ],
      "metadata": {
        "id": "_vSZNIy7aUiO"
      },
      "execution_count": null,
      "outputs": []
    },
    {
      "cell_type": "code",
      "source": [
        "for layers in base_model.layers:\n",
        "  layers.trainable=False"
      ],
      "metadata": {
        "id": "Q2CVUS_ebWyK"
      },
      "execution_count": null,
      "outputs": []
    },
    {
      "cell_type": "code",
      "source": [
        "from tensorflow.keras.layers import GlobalAveragePooling2D\n",
        "model_mnet = Sequential()\n",
        "model_mnet.add(base_model)\n",
        "model_mnet.add(GlobalAveragePooling2D())\n",
        "model_mnet.add(Dense(1024, activation='relu'))\n",
        "model_mnet.add(Dense(15, activation='softmax'))\n",
        "\n",
        "model_mnet.summary()"
      ],
      "metadata": {
        "id": "60fUJNufbhMa"
      },
      "execution_count": null,
      "outputs": []
    },
    {
      "cell_type": "code",
      "source": [
        "model_mnet.compile(optimizer='adam', loss='categorical_crossentropy', metrics=['accuracy'])"
      ],
      "metadata": {
        "id": "48xCyV9YcVKc"
      },
      "execution_count": null,
      "outputs": []
    },
    {
      "cell_type": "code",
      "source": [
        "datagen = ImageDataGenerator(preprocessing_function=preprocess_input)\n",
        "train_generator = datagen.flow_from_directory(train_path,\n",
        "                                              target_size=(150,150),\n",
        "                                              class_mode='categorical',\n",
        "                                              batch_size=100)\n",
        "\n",
        "val_generator = datagen.flow_from_directory(val_path,\n",
        "                                            target_size=(150,150),\n",
        "                                            class_mode='categorical',\n",
        "                                            batch_size=100)"
      ],
      "metadata": {
        "id": "dRd6Pr8ccuS6"
      },
      "execution_count": null,
      "outputs": []
    },
    {
      "cell_type": "code",
      "source": [
        "hist_mnet = model_mnet.fit(train_generator, epochs=30, validation_data=val_generator, callbacks=[es])"
      ],
      "metadata": {
        "id": "EStf07J3dkJR"
      },
      "execution_count": null,
      "outputs": []
    },
    {
      "cell_type": "code",
      "source": [
        "save_model(model_mnet, 'classifier_mnet.h5')"
      ],
      "metadata": {
        "id": "FXZRJd-md4uF"
      },
      "execution_count": null,
      "outputs": []
    },
    {
      "cell_type": "code",
      "source": [
        "test_generator = datagen.flow_from_directory(test_path,\n",
        "                                             target_size=(150,150),\n",
        "                                             class_mode='categorical',\n",
        "                                             batch_size=100,\n",
        "                                             shuffle=False)"
      ],
      "metadata": {
        "id": "XvzRKPR0gH-a"
      },
      "execution_count": null,
      "outputs": []
    },
    {
      "cell_type": "code",
      "source": [
        "valloss, valaccuracy = model_mnet.evaluate(val_generator)\n",
        "\n",
        "testloss, testaccuracy = model_mnet.evaluate(test_generator)\n",
        "\n",
        "\n",
        "print(\"\\nValidation accuracy: {}, validation loss: {}\".format(valaccuracy, valloss))\n",
        "print(\"\\nTest accuracy: {}, Test loss: {}\".format(testaccuracy, testloss))"
      ],
      "metadata": {
        "id": "KZ9gKheSgUJA"
      },
      "execution_count": null,
      "outputs": []
    },
    {
      "cell_type": "code",
      "source": [
        "acc = hist_mnet.history['accuracy']\n",
        "loss = hist_mnet.history['loss']\n",
        "val_acc = hist_mnet.history['val_accuracy']\n",
        "val_loss = hist_mnet.history['val_loss']\n",
        "epochs = range(1, len(acc)+1)\n",
        "\n",
        "plt.figure(figsize=(14,6))\n",
        "plt.subplot(1,2,1)\n",
        "plt.plot(epochs, acc, 'ro--', label='Accuracy')\n",
        "plt.plot(epochs, val_acc, 'g^:', label='Val_Accuracy')\n",
        "plt.title(\"Accuracy vs Epochs\")\n",
        "plt.xlabel(\"Epochs\", fontsize=12)\n",
        "plt.ylabel(\"Accuracy\", fontsize=12)\n",
        "plt.legend()\n",
        "\n",
        "plt.subplot(1,2,2)\n",
        "plt.plot(epochs, loss, 'ro--', label='Loss')\n",
        "plt.plot(epochs, val_loss, 'g^:', label='Val_Loss')\n",
        "plt.title(\"Loss vs Epochs\")\n",
        "plt.xlabel(\"Epochs\", fontsize=12)\n",
        "plt.ylabel(\"Loss\", fontsize=12)\n",
        "plt.legend()\n",
        "\n",
        "plt.show()"
      ],
      "metadata": {
        "id": "72OSjwKJgUJB"
      },
      "execution_count": null,
      "outputs": []
    },
    {
      "cell_type": "markdown",
      "source": [
        "# Getting Performance Score"
      ],
      "metadata": {
        "id": "h5iRiVaThG5c"
      }
    },
    {
      "cell_type": "code",
      "source": [
        "prediction_mnet = model_mnet.predict(test_generator)"
      ],
      "metadata": {
        "id": "gCqEz4XAhBKy"
      },
      "execution_count": null,
      "outputs": []
    },
    {
      "cell_type": "code",
      "source": [
        "y_pred_mnet = np.argmax(prediction_mnet, axis=1)"
      ],
      "metadata": {
        "id": "dDEgmJthhP16"
      },
      "execution_count": null,
      "outputs": []
    },
    {
      "cell_type": "code",
      "source": [
        "y_test_mnet = test_generator.classes\n",
        "y_test_mnet[:6]"
      ],
      "metadata": {
        "id": "bx-bTRcvhZtQ"
      },
      "execution_count": null,
      "outputs": []
    },
    {
      "cell_type": "code",
      "source": [
        "y_pred_mnet[:6]"
      ],
      "metadata": {
        "id": "6KfFbIEthgpj"
      },
      "execution_count": null,
      "outputs": []
    },
    {
      "cell_type": "code",
      "source": [
        "cm_mnet = confusion_matrix(y_test_mnet, y_pred_mnet)\n",
        "cm_mnet"
      ],
      "metadata": {
        "id": "6sH5ny7PhlAy"
      },
      "execution_count": null,
      "outputs": []
    },
    {
      "cell_type": "code",
      "source": [
        "plt.figure(figsize=(14,10))\n",
        "sns.heatmap(cm_mnet, annot = True, fmt='d')\n",
        "plt.xlabel('Predicted Label', fontsize=12)\n",
        "plt.ylabel('True Label', fontsize=12)\n",
        "plt.show()"
      ],
      "metadata": {
        "id": "gKdXPveMh4Ds"
      },
      "execution_count": null,
      "outputs": []
    },
    {
      "cell_type": "code",
      "source": [
        "print(classification_report(y_test_mnet, y_pred_mnet, target_names=class_list) )"
      ],
      "metadata": {
        "id": "Zty9Qbrch4Dt"
      },
      "execution_count": null,
      "outputs": []
    },
    {
      "cell_type": "markdown",
      "source": [
        "## Predicting some random images"
      ],
      "metadata": {
        "id": "VHV3sFcDiP3T"
      }
    },
    {
      "cell_type": "code",
      "source": [
        "k=1\n",
        "plt.figure(figsize=(16,24))\n",
        "\n",
        "for dir in os.listdir(test_path):\n",
        "  for i in range(2):\n",
        "    random_img = random.sample(os.listdir(test_path+dir),1)\n",
        "    img = load_img(test_path+dir+'/'+random_img[0], target_size=(150,150))\n",
        "\n",
        "    i = img_to_array(img)/255.\n",
        "    plt.subplot(6,5,k)\n",
        "    img_arr = np.array(i)\n",
        "    plt.imshow(img_arr)\n",
        "    pred = model_mnet.predict(img_arr.reshape(-1,150,150,3))\n",
        "    plt.title(\"Org: {}\\nPred: {}\".format(dir, class_list[np.argmax(pred)] ))\n",
        "    plt.axis('off')\n",
        "    k+=1\n",
        "\n",
        "plt.show()"
      ],
      "metadata": {
        "id": "m5wu0DTKiEN4"
      },
      "execution_count": null,
      "outputs": []
    },
    {
      "cell_type": "code",
      "source": [
        ""
      ],
      "metadata": {
        "id": "4Nyy8MRViWRE"
      },
      "execution_count": null,
      "outputs": []
    }
  ]
}